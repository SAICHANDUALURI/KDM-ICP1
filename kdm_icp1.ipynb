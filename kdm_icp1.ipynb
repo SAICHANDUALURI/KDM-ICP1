{
  "nbformat": 4,
  "nbformat_minor": 0,
  "metadata": {
    "colab": {
      "name": "kdm-icp1",
      "provenance": [],
      "authorship_tag": "ABX9TyPjfXo2KnKeHSIbM6IC0g27",
      "include_colab_link": true
    },
    "kernelspec": {
      "name": "python3",
      "display_name": "Python 3"
    }
  },
  "cells": [
    {
      "cell_type": "markdown",
      "metadata": {
        "id": "view-in-github",
        "colab_type": "text"
      },
      "source": [
        "<a href=\"https://colab.research.google.com/github/SAICHANDUALURI/KDM-ICP1/blob/main/kdm_icp1.ipynb\" target=\"_parent\"><img src=\"https://colab.research.google.com/assets/colab-badge.svg\" alt=\"Open In Colab\"/></a>"
      ]
    },
    {
      "cell_type": "code",
      "metadata": {
        "colab": {
          "base_uri": "https://localhost:8080/"
        },
        "id": "bIWioxfMKDLH",
        "outputId": "5ccbd3e0-4dfa-41b0-d5eb-a148960f1937"
      },
      "source": [
        "# import all the libraries \n",
        "import nltk\n",
        "nltk.download('punkt')\n",
        "import pandas as pd\n",
        "from nltk.tokenize import sent_tokenize\n",
        "from nltk.tokenize import word_tokenize\n",
        "from nltk.probability import FreqDist\n",
        "import matplotlib.pyplot as plt"
      ],
      "execution_count": 33,
      "outputs": [
        {
          "output_type": "stream",
          "text": [
            "[nltk_data] Downloading package punkt to /root/nltk_data...\n",
            "[nltk_data]   Package punkt is already up-to-date!\n"
          ],
          "name": "stdout"
        }
      ]
    },
    {
      "cell_type": "markdown",
      "metadata": {
        "id": "byZCxHHvLeSy"
      },
      "source": [
        "[nltk_data] Downloading package punkt to /root/nltk_data...\n",
        "[nltk_data]   Unzipping tokenizers/punkt.zip."
      ]
    },
    {
      "cell_type": "markdown",
      "metadata": {
        "id": "rN4TtsGfLLZC"
      },
      "source": [
        "Next we will mount our google drive on the colab run the code below and follow the instructions the G drive will be mounted on drive -> MyDrive"
      ]
    },
    {
      "cell_type": "code",
      "metadata": {
        "colab": {
          "base_uri": "https://localhost:8080/"
        },
        "id": "xBWLHtnyRngc",
        "outputId": "144fc3cc-7271-45ab-8c83-70232d1e11f4"
      },
      "source": [
        "from google.colab import drive\n",
        "drive.mount('/content/drive')"
      ],
      "execution_count": 34,
      "outputs": [
        {
          "output_type": "stream",
          "text": [
            "Drive already mounted at /content/drive; to attempt to forcibly remount, call drive.mount(\"/content/drive\", force_remount=True).\n"
          ],
          "name": "stdout"
        }
      ]
    },
    {
      "cell_type": "markdown",
      "metadata": {
        "id": "4kAh8vnWLmQW"
      },
      "source": [
        "Drive already mounted at /content/drive; to attempt to forcibly remount, call drive.mount(\"/content/drive\", force_remount=True)."
      ]
    },
    {
      "cell_type": "markdown",
      "metadata": {
        "id": "6OKya4mMSZbE"
      },
      "source": [
        "Readind the files as a pandas dataframe "
      ]
    },
    {
      "cell_type": "code",
      "metadata": {
        "colab": {
          "base_uri": "https://localhost:8080/",
          "height": 101
        },
        "id": "NU7zczPrZAhH",
        "outputId": "4dbc6e25-9a53-4ce0-beb9-d97d1b66906b"
      },
      "source": [
        "dataset=pd.read_csv(\"/content/drive/MyDrive/input_file.txt\",delimiter=\"\\t\")\n",
        "dataset"
      ],
      "execution_count": 36,
      "outputs": [
        {
          "output_type": "execute_result",
          "data": {
            "text/html": [
              "<div>\n",
              "<style scoped>\n",
              "    .dataframe tbody tr th:only-of-type {\n",
              "        vertical-align: middle;\n",
              "    }\n",
              "\n",
              "    .dataframe tbody tr th {\n",
              "        vertical-align: top;\n",
              "    }\n",
              "\n",
              "    .dataframe thead th {\n",
              "        text-align: right;\n",
              "    }\n",
              "</style>\n",
              "<table border=\"1\" class=\"dataframe\">\n",
              "  <thead>\n",
              "    <tr style=\"text-align: right;\">\n",
              "      <th></th>\n",
              "      <th>Text Analytics has lots of applications in today's online world. By analyzing tweets on Twitter, we can find trending news and peoples reaction on a particular event. Amazon can understand user feedback or review on the specific product. BookMyShow can discover people's opinion about the movie. Youtube can also analyze and understand peoples viewpoints on a video.</th>\n",
              "    </tr>\n",
              "  </thead>\n",
              "  <tbody>\n",
              "  </tbody>\n",
              "</table>\n",
              "</div>"
            ],
            "text/plain": [
              "Empty DataFrame\n",
              "Columns: [Text Analytics has lots of applications in today's online world. By analyzing tweets on Twitter, we can find trending news and peoples reaction on a particular event. Amazon can understand user feedback or review on the specific product. BookMyShow can discover people's opinion about the movie. Youtube can also analyze and understand peoples viewpoints on a video.]\n",
              "Index: []"
            ]
          },
          "metadata": {
            "tags": []
          },
          "execution_count": 36
        }
      ]
    },
    {
      "cell_type": "markdown",
      "metadata": {
        "id": "P4VRtOBhTaN5"
      },
      "source": [
        "converting the data frame to text"
      ]
    },
    {
      "cell_type": "code",
      "metadata": {
        "colab": {
          "base_uri": "https://localhost:8080/",
          "height": 87
        },
        "id": "H6EoF1MKTcoa",
        "outputId": "8e2cfe6b-0de5-4367-a615-be05b4b668d6"
      },
      "source": [
        "text= dataset.to_string()\n",
        "text"
      ],
      "execution_count": 20,
      "outputs": [
        {
          "output_type": "execute_result",
          "data": {
            "application/vnd.google.colaboratory.intrinsic+json": {
              "type": "string"
            },
            "text/plain": [
              "\"Empty DataFrame\\nColumns: [Text Analytics has lots of applications in today's online world. By analyzing tweets on Twitter, we can find trending news and peoples reaction on a particular event. Amazon can understand user feedback or review on the specific product. BookMyShow can discover people's opinion about the movie. Youtube can also analyze and understand peoples viewpoints on a video.]\\nIndex: []\""
            ]
          },
          "metadata": {
            "tags": []
          },
          "execution_count": 20
        }
      ]
    },
    {
      "cell_type": "markdown",
      "metadata": {
        "id": "fmqDAW14bqtA"
      },
      "source": [
        "Task 1: Converts all upper case letters to lower case letters"
      ]
    },
    {
      "cell_type": "code",
      "metadata": {
        "colab": {
          "base_uri": "https://localhost:8080/",
          "height": 87
        },
        "id": "LS0SmhwMb275",
        "outputId": "58d7d2ee-07d2-4302-ecf0-19f632aa4a89"
      },
      "source": [
        "c1= text.casefold()\n",
        "c1"
      ],
      "execution_count": 65,
      "outputs": [
        {
          "output_type": "execute_result",
          "data": {
            "application/vnd.google.colaboratory.intrinsic+json": {
              "type": "string"
            },
            "text/plain": [
              "\"empty dataframe\\ncolumns: [text analytics has lots of applications in today's online world. by analyzing tweets on twitter, we can find trending news and peoples reaction on a particular event. amazon can understand user feedback or review on the specific product. bookmyshow can discover people's opinion about the movie. youtube can also analyze and understand peoples viewpoints on a video.]\\nindex: []\""
            ]
          },
          "metadata": {
            "tags": []
          },
          "execution_count": 65
        }
      ]
    },
    {
      "cell_type": "markdown",
      "metadata": {
        "id": "rkWdtCyAifH9"
      },
      "source": [
        "Task 2: Checks If there is any Decimal characters in the text"
      ]
    },
    {
      "cell_type": "code",
      "metadata": {
        "colab": {
          "base_uri": "https://localhost:8080/"
        },
        "id": "7zT6OAfhihOV",
        "outputId": "da5966b4-faed-4f3d-8b08-e716f1789781"
      },
      "source": [
        "c2=text.isdecimal()\n",
        "c2"
      ],
      "execution_count": 75,
      "outputs": [
        {
          "output_type": "execute_result",
          "data": {
            "text/plain": [
              "False"
            ]
          },
          "metadata": {
            "tags": []
          },
          "execution_count": 75
        }
      ]
    },
    {
      "cell_type": "markdown",
      "metadata": {
        "id": "vnhJxqS1iyJq"
      },
      "source": [
        "Task 3:It Separates the text part before and the text part after the given text "
      ]
    },
    {
      "cell_type": "code",
      "metadata": {
        "colab": {
          "base_uri": "https://localhost:8080/"
        },
        "id": "3QGiYhMMizDB",
        "outputId": "f58c09ce-beea-4658-8680-af754f22e0e9"
      },
      "source": [
        "c3=text.partition(\"tweets\")\n",
        "c3"
      ],
      "execution_count": 74,
      "outputs": [
        {
          "output_type": "execute_result",
          "data": {
            "text/plain": [
              "(\"Empty DataFrame\\nColumns: [Text Analytics has lots of applications in today's online world. By analyzing \",\n",
              " 'tweets',\n",
              " \" on Twitter, we can find trending news and peoples reaction on a particular event. Amazon can understand user feedback or review on the specific product. BookMyShow can discover people's opinion about the movie. Youtube can also analyze and understand peoples viewpoints on a video.]\\nIndex: []\")"
            ]
          },
          "metadata": {
            "tags": []
          },
          "execution_count": 74
        }
      ]
    }
  ]
}